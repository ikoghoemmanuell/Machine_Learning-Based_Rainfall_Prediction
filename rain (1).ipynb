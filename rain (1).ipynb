{
  "cells": [
    {
      "cell_type": "markdown",
      "id": "15e80a54",
      "metadata": {
        "id": "15e80a54"
      },
      "source": [
        "# CLASSIFICATION-- FRAUD DETECTION"
      ]
    },
    {
      "cell_type": "markdown",
      "id": "19c93acb",
      "metadata": {
        "id": "19c93acb"
      },
      "source": [
        "![image.png](attachment:image.png)"
      ]
    },
    {
      "cell_type": "markdown",
      "id": "734ba730",
      "metadata": {
        "id": "734ba730"
      },
      "source": [
        "# Questions (Answers to the rest questions are implemented in the notebook)\n",
        "\n",
        "1. What are the key factors that predict fraudulent customer?\n",
        "2. Do these factors make sense? If yes, How? If not, How not?\n",
        "3. What kind of prevention should be adopted while company update its infrastructure?\n",
        "4. Assuming these actions have been implemented, how would you determine if they work?"
      ]
    },
    {
      "cell_type": "markdown",
      "id": "d6d824ef",
      "metadata": {
        "id": "d6d824ef"
      },
      "source": [
        "# Answers\n",
        "\n",
        "Answers are at the end of the notebook"
      ]
    },
    {
      "cell_type": "markdown",
      "id": "f4ea7933",
      "metadata": {
        "id": "f4ea7933"
      },
      "source": [
        "# Installation"
      ]
    },
    {
      "cell_type": "code",
      "execution_count": 1,
      "id": "f3e8a153",
      "metadata": {
        "id": "f3e8a153"
      },
      "outputs": [],
      "source": [
        "# !pip install xgboost\n",
        "# !pip install -U imbalanced-learn\n",
        "# !pip install --upgrade scipy\n",
        "# !pip install threadpoolctl==3.1.0\n",
        "# !pip install category_encoders"
      ]
    },
    {
      "cell_type": "markdown",
      "id": "c54864f1",
      "metadata": {
        "id": "c54864f1"
      },
      "source": [
        "# Importation"
      ]
    },
    {
      "cell_type": "code",
      "execution_count": 2,
      "id": "91b7e819",
      "metadata": {
        "id": "91b7e819"
      },
      "outputs": [],
      "source": [
        "# Data handling\n",
        "import pandas as pd\n",
        "import numpy as np\n",
        "import threadpoolctl\n",
        "# Vizualisation (Matplotlib, Plotly, Seaborn, etc. )\n",
        "import seaborn as sns\n",
        "import matplotlib.pyplot as plt\n",
        "\n",
        "# EDA (pandas-profiling, etc. )\n",
        "\n",
        "# Statistics\n",
        "from scipy import stats\n",
        "\n",
        "# Feature Processing (Scikit-learn processing, etc. )\n",
        "from sklearn.model_selection import train_test_split\n",
        "from sklearn.preprocessing import LabelEncoder, OneHotEncoder\n",
        "from sklearn.compose import make_column_transformer\n",
        "from sklearn.preprocessing import StandardScaler\n",
        "from collections import Counter\n",
        "\n",
        "# balance data\n",
        "from imblearn import under_sampling, over_sampling\n",
        "from imblearn.over_sampling import SMOTE, RandomOverSampler\n",
        "from imblearn.under_sampling import RandomUnderSampler\n",
        "\n",
        "# Machine Learning (Scikit-learn Estimators, Catboost, LightGBM, etc. )\n",
        "from sklearn.linear_model import LogisticRegression\n",
        "from sklearn.metrics import confusion_matrix,ConfusionMatrixDisplay\n",
        "from imblearn.over_sampling import RandomOverSampler\n",
        "from sklearn.metrics import make_scorer, accuracy_score, precision_score, recall_score, f1_score, fbeta_score, roc_auc_score, classification_report\n",
        "from sklearn.ensemble import RandomForestClassifier\n",
        "from xgboost import XGBClassifier, plot_importance\n",
        "from sklearn.metrics import roc_curve\n",
        "from sklearn.neighbors import KNeighborsClassifier\n",
        "from sklearn.svm import SVC\n",
        "from sklearn.tree import DecisionTreeClassifier\n",
        "from sklearn.cluster import KMeans\n",
        "\n",
        "# Hyperparameters Fine-tuning (Scikit-learn hp search, cross-validation, etc. )\n",
        "from sklearn.pipeline import Pipeline\n",
        "from sklearn.model_selection import GridSearchCV\n",
        "\n",
        "# Evaluations\n",
        "from sklearn.metrics import confusion_matrix, accuracy_score, classification_report, roc_auc_score, RocCurveDisplay, roc_curve, auc\n",
        "from sklearn.model_selection import StratifiedKFold, RandomizedSearchCV, cross_val_score\n",
        "from statistics import stdev\n",
        "from sklearn.model_selection import KFold\n",
        "\n",
        "# Other packages\n",
        "import os, pickle\n",
        "\n",
        "import warnings\n",
        "warnings.filterwarnings(\"ignore\")\n",
        "\n",
        "# Mounting Google Drive\n",
        "from google.colab import drive  # Import for accessing Google Drive\n",
        "\n",
        "# Unzipping files\n",
        "import zipfile  # Import for extracting zip files"
      ]
    },
    {
      "cell_type": "markdown",
      "id": "7f21642a",
      "metadata": {
        "id": "7f21642a"
      },
      "source": [
        "# Data Loading"
      ]
    },
    {
      "cell_type": "code",
      "execution_count": 3,
      "id": "d2abc3f0",
      "metadata": {
        "colab": {
          "base_uri": "https://localhost:8080/"
        },
        "id": "d2abc3f0",
        "outputId": "866bdff5-a779-4a82-c18b-f994bc8cf3bf"
      },
      "outputs": [
        {
          "output_type": "stream",
          "name": "stdout",
          "text": [
            "Drive already mounted at /content/drive; to attempt to forcibly remount, call drive.mount(\"/content/drive\", force_remount=True).\n"
          ]
        }
      ],
      "source": [
        "# Mount your Google Drive\n",
        "drive.mount('/content/drive')\n",
        "\n",
        "# Get the file path from Google Drive\n",
        "file_path = '/content/drive/MyDrive/Colab Notebooks/datasets/rain.zip'\n",
        "\n",
        "# Unzip the file\n",
        "with zipfile.ZipFile(file_path, 'r') as zip_ref:\n",
        "    # Find the CSV files in the zip folder\n",
        "    file_path = zip_ref.extract('weatherAUS.csv', '/content/')\n",
        "\n",
        "# Read the csv file from the url\n",
        "data = pd.read_csv(file_path)"
      ]
    },
    {
      "cell_type": "code",
      "source": [
        "# # Mount your Google Drive\n",
        "# drive.mount('/content/drive')\n",
        "\n",
        "# # Get the file path from Google Drive\n",
        "# file_path = '/content/drive/MyDrive/Colab Notebooks/datasets/boating accidents.zip'\n",
        "\n",
        "# # Unzip the file\n",
        "# with zipfile.ZipFile(file_path, 'r') as zip_ref:\n",
        "#     # Find the CSV files in the zip folder\n",
        "#     file_path1 = zip_ref.extract('boating accidents/bard-2023-2023-ReleasableAccidents.csv', '/content/')\n",
        "#     file_path2 = zip_ref.extract('boating accidents/bard-2023-2023-ReleasableDeaths.csv', '/content/')\n",
        "#     file_path3 = zip_ref.extract('boating accidents/bard-2023-2023-ReleasableInjuries.csv', '/content/')\n",
        "#     file_path4 = zip_ref.extract('boating accidents/bard-2023-2023-ReleasableVessels.csv', '/content/')\n",
        "\n",
        "# # Read the csv file from the url\n",
        "# accidents = pd.read_csv(file_path1)\n",
        "# deaths = pd.read_csv(file_path2)\n",
        "# injuries = pd.read_csv(file_path3)\n",
        "# vessels = pd.read_csv(file_path4)"
      ],
      "metadata": {
        "id": "Y8LS3Z7pCcJD"
      },
      "id": "Y8LS3Z7pCcJD",
      "execution_count": 4,
      "outputs": []
    },
    {
      "cell_type": "code",
      "execution_count": 5,
      "id": "21079307",
      "metadata": {
        "id": "21079307"
      },
      "outputs": [],
      "source": [
        "# !pip install ydata-profiling"
      ]
    },
    {
      "cell_type": "code",
      "execution_count": 6,
      "id": "f0c63f3a",
      "metadata": {
        "id": "f0c63f3a"
      },
      "outputs": [],
      "source": [
        "# from ydata_profiling import ProfileReport\n",
        "\n",
        "# profile = ProfileReport(accidents, title=\"Pandas Profiling Report\")\n",
        "# profile.to_notebook_iframe()"
      ]
    },
    {
      "cell_type": "markdown",
      "source": [
        "Confirming the dataset is same as in the research paper"
      ],
      "metadata": {
        "id": "aFG5UviP1-yN"
      },
      "id": "aFG5UviP1-yN"
    },
    {
      "cell_type": "markdown",
      "source": [
        "![image.png](data:image/png;base64,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)\n",
        "\n",
        "![image.png](data:image/png;base64,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)"
      ],
      "metadata": {
        "id": "YIVxnrRk0Ynf"
      },
      "id": "YIVxnrRk0Ynf"
    },
    {
      "cell_type": "code",
      "source": [
        "print(\"from:\", data.Date.min(), \"to:\", data.Date.max())"
      ],
      "metadata": {
        "colab": {
          "base_uri": "https://localhost:8080/"
        },
        "id": "i5zT2pXW1MEd",
        "outputId": "fa4bd3dc-3aec-4c64-e5fe-2968c8454e48"
      },
      "id": "i5zT2pXW1MEd",
      "execution_count": 7,
      "outputs": [
        {
          "output_type": "stream",
          "name": "stdout",
          "text": [
            "from: 2007-11-01 to: 2017-06-25\n"
          ]
        }
      ]
    },
    {
      "cell_type": "code",
      "source": [
        "print(len(data))"
      ],
      "metadata": {
        "colab": {
          "base_uri": "https://localhost:8080/"
        },
        "id": "w2sYp5mn1y7-",
        "outputId": "05e7c38d-3845-4e8a-f43a-c2f9cf77ff37"
      },
      "id": "w2sYp5mn1y7-",
      "execution_count": 8,
      "outputs": [
        {
          "output_type": "stream",
          "name": "stdout",
          "text": [
            "145460\n"
          ]
        }
      ]
    },
    {
      "cell_type": "markdown",
      "source": [
        "since its the same length, that was probably a typing error"
      ],
      "metadata": {
        "id": "Gp3Srf1-2RpW"
      },
      "id": "Gp3Srf1-2RpW"
    },
    {
      "cell_type": "code",
      "execution_count": 9,
      "id": "d7e2c061",
      "metadata": {
        "colab": {
          "base_uri": "https://localhost:8080/",
          "height": 342
        },
        "id": "d7e2c061",
        "outputId": "4769a064-78eb-42a8-b00e-0d4a76476338"
      },
      "outputs": [
        {
          "output_type": "execute_result",
          "data": {
            "text/plain": [
              "         Date Location  MinTemp  MaxTemp  Rainfall  Evaporation  Sunshine  \\\n",
              "0  2008-12-01   Albury     13.4     22.9       0.6          NaN       NaN   \n",
              "1  2008-12-02   Albury      7.4     25.1       0.0          NaN       NaN   \n",
              "2  2008-12-03   Albury     12.9     25.7       0.0          NaN       NaN   \n",
              "3  2008-12-04   Albury      9.2     28.0       0.0          NaN       NaN   \n",
              "4  2008-12-05   Albury     17.5     32.3       1.0          NaN       NaN   \n",
              "\n",
              "  WindGustDir  WindGustSpeed WindDir9am  ... Humidity9am  Humidity3pm  \\\n",
              "0           W           44.0          W  ...        71.0         22.0   \n",
              "1         WNW           44.0        NNW  ...        44.0         25.0   \n",
              "2         WSW           46.0          W  ...        38.0         30.0   \n",
              "3          NE           24.0         SE  ...        45.0         16.0   \n",
              "4           W           41.0        ENE  ...        82.0         33.0   \n",
              "\n",
              "   Pressure9am  Pressure3pm  Cloud9am  Cloud3pm  Temp9am  Temp3pm  RainToday  \\\n",
              "0       1007.7       1007.1       8.0       NaN     16.9     21.8         No   \n",
              "1       1010.6       1007.8       NaN       NaN     17.2     24.3         No   \n",
              "2       1007.6       1008.7       NaN       2.0     21.0     23.2         No   \n",
              "3       1017.6       1012.8       NaN       NaN     18.1     26.5         No   \n",
              "4       1010.8       1006.0       7.0       8.0     17.8     29.7         No   \n",
              "\n",
              "   RainTomorrow  \n",
              "0            No  \n",
              "1            No  \n",
              "2            No  \n",
              "3            No  \n",
              "4            No  \n",
              "\n",
              "[5 rows x 23 columns]"
            ],
            "text/html": [
              "\n",
              "  <div id=\"df-e1d8c95f-1d1c-496c-92c2-43368ab134e0\" class=\"colab-df-container\">\n",
              "    <div>\n",
              "<style scoped>\n",
              "    .dataframe tbody tr th:only-of-type {\n",
              "        vertical-align: middle;\n",
              "    }\n",
              "\n",
              "    .dataframe tbody tr th {\n",
              "        vertical-align: top;\n",
              "    }\n",
              "\n",
              "    .dataframe thead th {\n",
              "        text-align: right;\n",
              "    }\n",
              "</style>\n",
              "<table border=\"1\" class=\"dataframe\">\n",
              "  <thead>\n",
              "    <tr style=\"text-align: right;\">\n",
              "      <th></th>\n",
              "      <th>Date</th>\n",
              "      <th>Location</th>\n",
              "      <th>MinTemp</th>\n",
              "      <th>MaxTemp</th>\n",
              "      <th>Rainfall</th>\n",
              "      <th>Evaporation</th>\n",
              "      <th>Sunshine</th>\n",
              "      <th>WindGustDir</th>\n",
              "      <th>WindGustSpeed</th>\n",
              "      <th>WindDir9am</th>\n",
              "      <th>...</th>\n",
              "      <th>Humidity9am</th>\n",
              "      <th>Humidity3pm</th>\n",
              "      <th>Pressure9am</th>\n",
              "      <th>Pressure3pm</th>\n",
              "      <th>Cloud9am</th>\n",
              "      <th>Cloud3pm</th>\n",
              "      <th>Temp9am</th>\n",
              "      <th>Temp3pm</th>\n",
              "      <th>RainToday</th>\n",
              "      <th>RainTomorrow</th>\n",
              "    </tr>\n",
              "  </thead>\n",
              "  <tbody>\n",
              "    <tr>\n",
              "      <th>0</th>\n",
              "      <td>2008-12-01</td>\n",
              "      <td>Albury</td>\n",
              "      <td>13.4</td>\n",
              "      <td>22.9</td>\n",
              "      <td>0.6</td>\n",
              "      <td>NaN</td>\n",
              "      <td>NaN</td>\n",
              "      <td>W</td>\n",
              "      <td>44.0</td>\n",
              "      <td>W</td>\n",
              "      <td>...</td>\n",
              "      <td>71.0</td>\n",
              "      <td>22.0</td>\n",
              "      <td>1007.7</td>\n",
              "      <td>1007.1</td>\n",
              "      <td>8.0</td>\n",
              "      <td>NaN</td>\n",
              "      <td>16.9</td>\n",
              "      <td>21.8</td>\n",
              "      <td>No</td>\n",
              "      <td>No</td>\n",
              "    </tr>\n",
              "    <tr>\n",
              "      <th>1</th>\n",
              "      <td>2008-12-02</td>\n",
              "      <td>Albury</td>\n",
              "      <td>7.4</td>\n",
              "      <td>25.1</td>\n",
              "      <td>0.0</td>\n",
              "      <td>NaN</td>\n",
              "      <td>NaN</td>\n",
              "      <td>WNW</td>\n",
              "      <td>44.0</td>\n",
              "      <td>NNW</td>\n",
              "      <td>...</td>\n",
              "      <td>44.0</td>\n",
              "      <td>25.0</td>\n",
              "      <td>1010.6</td>\n",
              "      <td>1007.8</td>\n",
              "      <td>NaN</td>\n",
              "      <td>NaN</td>\n",
              "      <td>17.2</td>\n",
              "      <td>24.3</td>\n",
              "      <td>No</td>\n",
              "      <td>No</td>\n",
              "    </tr>\n",
              "    <tr>\n",
              "      <th>2</th>\n",
              "      <td>2008-12-03</td>\n",
              "      <td>Albury</td>\n",
              "      <td>12.9</td>\n",
              "      <td>25.7</td>\n",
              "      <td>0.0</td>\n",
              "      <td>NaN</td>\n",
              "      <td>NaN</td>\n",
              "      <td>WSW</td>\n",
              "      <td>46.0</td>\n",
              "      <td>W</td>\n",
              "      <td>...</td>\n",
              "      <td>38.0</td>\n",
              "      <td>30.0</td>\n",
              "      <td>1007.6</td>\n",
              "      <td>1008.7</td>\n",
              "      <td>NaN</td>\n",
              "      <td>2.0</td>\n",
              "      <td>21.0</td>\n",
              "      <td>23.2</td>\n",
              "      <td>No</td>\n",
              "      <td>No</td>\n",
              "    </tr>\n",
              "    <tr>\n",
              "      <th>3</th>\n",
              "      <td>2008-12-04</td>\n",
              "      <td>Albury</td>\n",
              "      <td>9.2</td>\n",
              "      <td>28.0</td>\n",
              "      <td>0.0</td>\n",
              "      <td>NaN</td>\n",
              "      <td>NaN</td>\n",
              "      <td>NE</td>\n",
              "      <td>24.0</td>\n",
              "      <td>SE</td>\n",
              "      <td>...</td>\n",
              "      <td>45.0</td>\n",
              "      <td>16.0</td>\n",
              "      <td>1017.6</td>\n",
              "      <td>1012.8</td>\n",
              "      <td>NaN</td>\n",
              "      <td>NaN</td>\n",
              "      <td>18.1</td>\n",
              "      <td>26.5</td>\n",
              "      <td>No</td>\n",
              "      <td>No</td>\n",
              "    </tr>\n",
              "    <tr>\n",
              "      <th>4</th>\n",
              "      <td>2008-12-05</td>\n",
              "      <td>Albury</td>\n",
              "      <td>17.5</td>\n",
              "      <td>32.3</td>\n",
              "      <td>1.0</td>\n",
              "      <td>NaN</td>\n",
              "      <td>NaN</td>\n",
              "      <td>W</td>\n",
              "      <td>41.0</td>\n",
              "      <td>ENE</td>\n",
              "      <td>...</td>\n",
              "      <td>82.0</td>\n",
              "      <td>33.0</td>\n",
              "      <td>1010.8</td>\n",
              "      <td>1006.0</td>\n",
              "      <td>7.0</td>\n",
              "      <td>8.0</td>\n",
              "      <td>17.8</td>\n",
              "      <td>29.7</td>\n",
              "      <td>No</td>\n",
              "      <td>No</td>\n",
              "    </tr>\n",
              "  </tbody>\n",
              "</table>\n",
              "<p>5 rows × 23 columns</p>\n",
              "</div>\n",
              "    <div class=\"colab-df-buttons\">\n",
              "\n",
              "  <div class=\"colab-df-container\">\n",
              "    <button class=\"colab-df-convert\" onclick=\"convertToInteractive('df-e1d8c95f-1d1c-496c-92c2-43368ab134e0')\"\n",
              "            title=\"Convert this dataframe to an interactive table.\"\n",
              "            style=\"display:none;\">\n",
              "\n",
              "  <svg xmlns=\"http://www.w3.org/2000/svg\" height=\"24px\" viewBox=\"0 -960 960 960\">\n",
              "    <path d=\"M120-120v-720h720v720H120Zm60-500h600v-160H180v160Zm220 220h160v-160H400v160Zm0 220h160v-160H400v160ZM180-400h160v-160H180v160Zm440 0h160v-160H620v160ZM180-180h160v-160H180v160Zm440 0h160v-160H620v160Z\"/>\n",
              "  </svg>\n",
              "    </button>\n",
              "\n",
              "  <style>\n",
              "    .colab-df-container {\n",
              "      display:flex;\n",
              "      gap: 12px;\n",
              "    }\n",
              "\n",
              "    .colab-df-convert {\n",
              "      background-color: #E8F0FE;\n",
              "      border: none;\n",
              "      border-radius: 50%;\n",
              "      cursor: pointer;\n",
              "      display: none;\n",
              "      fill: #1967D2;\n",
              "      height: 32px;\n",
              "      padding: 0 0 0 0;\n",
              "      width: 32px;\n",
              "    }\n",
              "\n",
              "    .colab-df-convert:hover {\n",
              "      background-color: #E2EBFA;\n",
              "      box-shadow: 0px 1px 2px rgba(60, 64, 67, 0.3), 0px 1px 3px 1px rgba(60, 64, 67, 0.15);\n",
              "      fill: #174EA6;\n",
              "    }\n",
              "\n",
              "    .colab-df-buttons div {\n",
              "      margin-bottom: 4px;\n",
              "    }\n",
              "\n",
              "    [theme=dark] .colab-df-convert {\n",
              "      background-color: #3B4455;\n",
              "      fill: #D2E3FC;\n",
              "    }\n",
              "\n",
              "    [theme=dark] .colab-df-convert:hover {\n",
              "      background-color: #434B5C;\n",
              "      box-shadow: 0px 1px 3px 1px rgba(0, 0, 0, 0.15);\n",
              "      filter: drop-shadow(0px 1px 2px rgba(0, 0, 0, 0.3));\n",
              "      fill: #FFFFFF;\n",
              "    }\n",
              "  </style>\n",
              "\n",
              "    <script>\n",
              "      const buttonEl =\n",
              "        document.querySelector('#df-e1d8c95f-1d1c-496c-92c2-43368ab134e0 button.colab-df-convert');\n",
              "      buttonEl.style.display =\n",
              "        google.colab.kernel.accessAllowed ? 'block' : 'none';\n",
              "\n",
              "      async function convertToInteractive(key) {\n",
              "        const element = document.querySelector('#df-e1d8c95f-1d1c-496c-92c2-43368ab134e0');\n",
              "        const dataTable =\n",
              "          await google.colab.kernel.invokeFunction('convertToInteractive',\n",
              "                                                    [key], {});\n",
              "        if (!dataTable) return;\n",
              "\n",
              "        const docLinkHtml = 'Like what you see? Visit the ' +\n",
              "          '<a target=\"_blank\" href=https://colab.research.google.com/notebooks/data_table.ipynb>data table notebook</a>'\n",
              "          + ' to learn more about interactive tables.';\n",
              "        element.innerHTML = '';\n",
              "        dataTable['output_type'] = 'display_data';\n",
              "        await google.colab.output.renderOutput(dataTable, element);\n",
              "        const docLink = document.createElement('div');\n",
              "        docLink.innerHTML = docLinkHtml;\n",
              "        element.appendChild(docLink);\n",
              "      }\n",
              "    </script>\n",
              "  </div>\n",
              "\n",
              "\n",
              "<div id=\"df-b45aa4cc-58e5-4aa6-831b-abb6de9c7806\">\n",
              "  <button class=\"colab-df-quickchart\" onclick=\"quickchart('df-b45aa4cc-58e5-4aa6-831b-abb6de9c7806')\"\n",
              "            title=\"Suggest charts\"\n",
              "            style=\"display:none;\">\n",
              "\n",
              "<svg xmlns=\"http://www.w3.org/2000/svg\" height=\"24px\"viewBox=\"0 0 24 24\"\n",
              "     width=\"24px\">\n",
              "    <g>\n",
              "        <path d=\"M19 3H5c-1.1 0-2 .9-2 2v14c0 1.1.9 2 2 2h14c1.1 0 2-.9 2-2V5c0-1.1-.9-2-2-2zM9 17H7v-7h2v7zm4 0h-2V7h2v10zm4 0h-2v-4h2v4z\"/>\n",
              "    </g>\n",
              "</svg>\n",
              "  </button>\n",
              "\n",
              "<style>\n",
              "  .colab-df-quickchart {\n",
              "      --bg-color: #E8F0FE;\n",
              "      --fill-color: #1967D2;\n",
              "      --hover-bg-color: #E2EBFA;\n",
              "      --hover-fill-color: #174EA6;\n",
              "      --disabled-fill-color: #AAA;\n",
              "      --disabled-bg-color: #DDD;\n",
              "  }\n",
              "\n",
              "  [theme=dark] .colab-df-quickchart {\n",
              "      --bg-color: #3B4455;\n",
              "      --fill-color: #D2E3FC;\n",
              "      --hover-bg-color: #434B5C;\n",
              "      --hover-fill-color: #FFFFFF;\n",
              "      --disabled-bg-color: #3B4455;\n",
              "      --disabled-fill-color: #666;\n",
              "  }\n",
              "\n",
              "  .colab-df-quickchart {\n",
              "    background-color: var(--bg-color);\n",
              "    border: none;\n",
              "    border-radius: 50%;\n",
              "    cursor: pointer;\n",
              "    display: none;\n",
              "    fill: var(--fill-color);\n",
              "    height: 32px;\n",
              "    padding: 0;\n",
              "    width: 32px;\n",
              "  }\n",
              "\n",
              "  .colab-df-quickchart:hover {\n",
              "    background-color: var(--hover-bg-color);\n",
              "    box-shadow: 0 1px 2px rgba(60, 64, 67, 0.3), 0 1px 3px 1px rgba(60, 64, 67, 0.15);\n",
              "    fill: var(--button-hover-fill-color);\n",
              "  }\n",
              "\n",
              "  .colab-df-quickchart-complete:disabled,\n",
              "  .colab-df-quickchart-complete:disabled:hover {\n",
              "    background-color: var(--disabled-bg-color);\n",
              "    fill: var(--disabled-fill-color);\n",
              "    box-shadow: none;\n",
              "  }\n",
              "\n",
              "  .colab-df-spinner {\n",
              "    border: 2px solid var(--fill-color);\n",
              "    border-color: transparent;\n",
              "    border-bottom-color: var(--fill-color);\n",
              "    animation:\n",
              "      spin 1s steps(1) infinite;\n",
              "  }\n",
              "\n",
              "  @keyframes spin {\n",
              "    0% {\n",
              "      border-color: transparent;\n",
              "      border-bottom-color: var(--fill-color);\n",
              "      border-left-color: var(--fill-color);\n",
              "    }\n",
              "    20% {\n",
              "      border-color: transparent;\n",
              "      border-left-color: var(--fill-color);\n",
              "      border-top-color: var(--fill-color);\n",
              "    }\n",
              "    30% {\n",
              "      border-color: transparent;\n",
              "      border-left-color: var(--fill-color);\n",
              "      border-top-color: var(--fill-color);\n",
              "      border-right-color: var(--fill-color);\n",
              "    }\n",
              "    40% {\n",
              "      border-color: transparent;\n",
              "      border-right-color: var(--fill-color);\n",
              "      border-top-color: var(--fill-color);\n",
              "    }\n",
              "    60% {\n",
              "      border-color: transparent;\n",
              "      border-right-color: var(--fill-color);\n",
              "    }\n",
              "    80% {\n",
              "      border-color: transparent;\n",
              "      border-right-color: var(--fill-color);\n",
              "      border-bottom-color: var(--fill-color);\n",
              "    }\n",
              "    90% {\n",
              "      border-color: transparent;\n",
              "      border-bottom-color: var(--fill-color);\n",
              "    }\n",
              "  }\n",
              "</style>\n",
              "\n",
              "  <script>\n",
              "    async function quickchart(key) {\n",
              "      const quickchartButtonEl =\n",
              "        document.querySelector('#' + key + ' button');\n",
              "      quickchartButtonEl.disabled = true;  // To prevent multiple clicks.\n",
              "      quickchartButtonEl.classList.add('colab-df-spinner');\n",
              "      try {\n",
              "        const charts = await google.colab.kernel.invokeFunction(\n",
              "            'suggestCharts', [key], {});\n",
              "      } catch (error) {\n",
              "        console.error('Error during call to suggestCharts:', error);\n",
              "      }\n",
              "      quickchartButtonEl.classList.remove('colab-df-spinner');\n",
              "      quickchartButtonEl.classList.add('colab-df-quickchart-complete');\n",
              "    }\n",
              "    (() => {\n",
              "      let quickchartButtonEl =\n",
              "        document.querySelector('#df-b45aa4cc-58e5-4aa6-831b-abb6de9c7806 button');\n",
              "      quickchartButtonEl.style.display =\n",
              "        google.colab.kernel.accessAllowed ? 'block' : 'none';\n",
              "    })();\n",
              "  </script>\n",
              "</div>\n",
              "\n",
              "    </div>\n",
              "  </div>\n"
            ],
            "application/vnd.google.colaboratory.intrinsic+json": {
              "type": "dataframe",
              "variable_name": "data"
            }
          },
          "metadata": {},
          "execution_count": 9
        }
      ],
      "source": [
        "data.head()"
      ]
    },
    {
      "cell_type": "markdown",
      "source": [
        "![image.png](data:image/png;base64,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)"
      ],
      "metadata": {
        "id": "3r8_0ysR5JY5"
      },
      "id": "3r8_0ysR5JY5"
    },
    {
      "cell_type": "markdown",
      "source": [
        "although I do not completely agree, there's nothing wrong with this approach. So let's follow the paper to a T"
      ],
      "metadata": {
        "id": "Nl60TbrMOWJH"
      },
      "id": "Nl60TbrMOWJH"
    },
    {
      "cell_type": "code",
      "source": [
        "data['Date'] = pd.to_datetime(data['Date'])"
      ],
      "metadata": {
        "id": "76eZfvpG4Cds"
      },
      "id": "76eZfvpG4Cds",
      "execution_count": 10,
      "outputs": []
    },
    {
      "cell_type": "code",
      "source": [
        "data['Month'] = data['Date'].dt.month"
      ],
      "metadata": {
        "id": "H-msAfRo4i2P"
      },
      "id": "H-msAfRo4i2P",
      "execution_count": 11,
      "outputs": []
    },
    {
      "cell_type": "code",
      "source": [
        "data.drop('Date', inplace=True, axis=1)"
      ],
      "metadata": {
        "id": "6uidjtwP4spG"
      },
      "id": "6uidjtwP4spG",
      "execution_count": 12,
      "outputs": []
    },
    {
      "cell_type": "markdown",
      "source": [
        "![image.png](data:image/png;base64,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)"
      ],
      "metadata": {
        "id": "ZhcPFWeC717d"
      },
      "id": "ZhcPFWeC717d"
    },
    {
      "cell_type": "markdown",
      "source": [
        "refering to the screenshot above, we'll encode the categoric variables here"
      ],
      "metadata": {
        "id": "gjAzqm2D8GZL"
      },
      "id": "gjAzqm2D8GZL"
    },
    {
      "cell_type": "code",
      "source": [
        "categoric = [col for col in data.columns if data[col].dtype == 'object']\n",
        "print(\"categoric_cols:\", categoric)"
      ],
      "metadata": {
        "colab": {
          "base_uri": "https://localhost:8080/"
        },
        "id": "QKtumbxn7S2R",
        "outputId": "d6db2e3e-82de-4d46-e42d-33b11572a780"
      },
      "id": "QKtumbxn7S2R",
      "execution_count": 18,
      "outputs": [
        {
          "output_type": "stream",
          "name": "stdout",
          "text": [
            "numeric_cols: ['MinTemp', 'MaxTemp', 'Rainfall', 'Evaporation', 'Sunshine', 'WindGustSpeed', 'WindSpeed9am', 'WindSpeed3pm', 'Humidity9am', 'Humidity3pm', 'Pressure9am', 'Pressure3pm', 'Cloud9am', 'Cloud3pm', 'Temp9am', 'Temp3pm', 'Month']\n",
            "categoric_cols: ['Location', 'WindGustDir', 'WindDir9am', 'WindDir3pm', 'RainToday', 'RainTomorrow']\n"
          ]
        }
      ]
    },
    {
      "cell_type": "code",
      "source": [
        "print(\"categoric_col\", \"-\", \"num_unique_values\")\n",
        "for col in categoric:\n",
        "    print(col, \"-\", data[col].nunique())"
      ],
      "metadata": {
        "colab": {
          "base_uri": "https://localhost:8080/"
        },
        "id": "aKdJ8_qk84dx",
        "outputId": "10a9ae72-8e2f-4f31-8ae8-41f856f68c55"
      },
      "id": "aKdJ8_qk84dx",
      "execution_count": 24,
      "outputs": [
        {
          "output_type": "stream",
          "name": "stdout",
          "text": [
            "categoric_col - num_unique_values\n",
            "Location - 49\n",
            "WindGustDir - 16\n",
            "WindDir9am - 16\n",
            "WindDir3pm - 16\n",
            "RainToday - 2\n",
            "RainTomorrow - 2\n"
          ]
        }
      ]
    },
    {
      "cell_type": "code",
      "source": [
        "data['WindGustDir'].unique()"
      ],
      "metadata": {
        "colab": {
          "base_uri": "https://localhost:8080/"
        },
        "id": "quyQvPbu_Ld5",
        "outputId": "18a1044b-313e-4998-de4b-8c50f6b22b4b"
      },
      "id": "quyQvPbu_Ld5",
      "execution_count": 26,
      "outputs": [
        {
          "output_type": "execute_result",
          "data": {
            "text/plain": [
              "array(['W', 'WNW', 'WSW', 'NE', 'NNW', 'N', 'NNE', 'SW', nan, 'ENE',\n",
              "       'SSE', 'S', 'NW', 'SE', 'ESE', 'E', 'SSW'], dtype=object)"
            ]
          },
          "metadata": {},
          "execution_count": 26
        }
      ]
    },
    {
      "cell_type": "markdown",
      "source": [
        "ordinal encoding is suitable for variables that have a meaningful order, like small, medium, large. Directions like North, East, West, South do not have a specific order."
      ],
      "metadata": {
        "id": "zTClUdxr_QiW"
      },
      "id": "zTClUdxr_QiW"
    },
    {
      "cell_type": "markdown",
      "source": [
        "therefore, let us use one-hot encoder for them since it treats direction as independent, which fits the nature of these variables."
      ],
      "metadata": {
        "id": "U9D9KULAAC5i"
      },
      "id": "U9D9KULAAC5i"
    },
    {
      "cell_type": "markdown",
      "source": [
        "same applies for location"
      ],
      "metadata": {
        "id": "UOIo8YOCAWpT"
      },
      "id": "UOIo8YOCAWpT"
    },
    {
      "cell_type": "markdown",
      "source": [
        "as for \"RainToday\" and \"RainTomorrow\", we'll encode \"yes\" as 1 and \"no\" as 0."
      ],
      "metadata": {
        "id": "qyUXjxHKAgox"
      },
      "id": "qyUXjxHKAgox"
    },
    {
      "cell_type": "code",
      "source": [
        "data['RainToday'] = data['RainToday'].apply(lambda x: 1 if x == 'Yes' else 0)\n",
        "data['RainTomorrow'] = data['RainTomorrow'].apply(lambda x: 1 if x == 'Yes' else 0)"
      ],
      "metadata": {
        "id": "rziySc2YBVnE"
      },
      "id": "rziySc2YBVnE",
      "execution_count": 28,
      "outputs": []
    },
    {
      "cell_type": "code",
      "source": [
        "categoric.remove(\"RainTomorrow\")\n",
        "categoric.remove(\"RainToday\")"
      ],
      "metadata": {
        "id": "EsGjCgMIDiG_"
      },
      "id": "EsGjCgMIDiG_",
      "execution_count": 30,
      "outputs": []
    },
    {
      "cell_type": "code",
      "source": [
        "# calling our encoder\n",
        "encoder = OneHotEncoder(handle_unknown='ignore', sparse_output=False, drop=\"first\")\n",
        "# setting output to DataFrame\n",
        "encoder.set_output(transform=\"pandas\")\n",
        "# encoding our data\n",
        "cat_encoded = encoder.fit_transform(data[categoric])"
      ],
      "metadata": {
        "id": "BVjUHU4U7SUU"
      },
      "id": "BVjUHU4U7SUU",
      "execution_count": 36,
      "outputs": []
    },
    {
      "cell_type": "code",
      "source": [
        "numeric = [col for col in data.columns if data[col].dtype in ['int32', 'int64', 'float64']]\n",
        "print(\"numeric_cols:\", numeric)"
      ],
      "metadata": {
        "colab": {
          "base_uri": "https://localhost:8080/"
        },
        "id": "ag6ToKcPEh95",
        "outputId": "3383458c-a57d-4e51-e208-9fcedc53b10f"
      },
      "id": "ag6ToKcPEh95",
      "execution_count": 39,
      "outputs": [
        {
          "output_type": "stream",
          "name": "stdout",
          "text": [
            "numeric_cols: ['MinTemp', 'MaxTemp', 'Rainfall', 'Evaporation', 'Sunshine', 'WindGustSpeed', 'WindSpeed9am', 'WindSpeed3pm', 'Humidity9am', 'Humidity3pm', 'Pressure9am', 'Pressure3pm', 'Cloud9am', 'Cloud3pm', 'Temp9am', 'Temp3pm', 'RainToday', 'RainTomorrow', 'Month']\n"
          ]
        }
      ]
    },
    {
      "cell_type": "code",
      "source": [
        "data = pd.concat([cat_encoded, data[numeric]], axis=1)"
      ],
      "metadata": {
        "id": "4By5z3RtEnI2"
      },
      "id": "4By5z3RtEnI2",
      "execution_count": 40,
      "outputs": []
    },
    {
      "cell_type": "code",
      "source": [
        "m"
      ],
      "metadata": {
        "id": "pdkM9PctHcGE"
      },
      "id": "pdkM9PctHcGE",
      "execution_count": null,
      "outputs": []
    },
    {
      "cell_type": "markdown",
      "id": "b86aff73",
      "metadata": {
        "id": "b86aff73"
      },
      "source": [
        "# Exploratory Data Analysis"
      ]
    },
    {
      "cell_type": "markdown",
      "id": "f96ebc8e",
      "metadata": {
        "id": "f96ebc8e"
      },
      "source": [
        "Rename the columns for better readability."
      ]
    },
    {
      "cell_type": "code",
      "execution_count": null,
      "id": "f37ddecf",
      "metadata": {
        "id": "f37ddecf"
      },
      "outputs": [],
      "source": [
        "data['isMerchant'] = data['cust_dest'].apply(lambda x: 1 if x.startswith('M') else 0)"
      ]
    },
    {
      "cell_type": "code",
      "execution_count": null,
      "id": "a9db9164",
      "metadata": {
        "id": "a9db9164"
      },
      "outputs": [],
      "source": [
        "data.shape"
      ]
    },
    {
      "cell_type": "code",
      "execution_count": null,
      "id": "dcbc0397",
      "metadata": {
        "id": "dcbc0397"
      },
      "outputs": [],
      "source": [
        "# summary of the dataframe\n",
        "data.info()"
      ]
    },
    {
      "cell_type": "code",
      "execution_count": null,
      "id": "b73bfbad",
      "metadata": {
        "id": "b73bfbad"
      },
      "outputs": [],
      "source": [
        "for col in data.columns:\n",
        "    if data[col].dtype == 'object':\n",
        "        print(col, data[col].nunique())"
      ]
    },
    {
      "cell_type": "markdown",
      "id": "4b74db7f",
      "metadata": {
        "id": "4b74db7f"
      },
      "source": [
        "cust_orig and cust_dest are unique for each transaction, so we can drop them."
      ]
    },
    {
      "cell_type": "code",
      "execution_count": null,
      "id": "f67821be",
      "metadata": {
        "id": "f67821be"
      },
      "outputs": [],
      "source": [
        "data.drop(columns=['cust_orig', 'cust_dest'], inplace=True)"
      ]
    },
    {
      "cell_type": "code",
      "execution_count": null,
      "id": "b89e8bc0",
      "metadata": {
        "id": "b89e8bc0"
      },
      "outputs": [],
      "source": [
        "data.describe()"
      ]
    },
    {
      "cell_type": "markdown",
      "id": "69d82642",
      "metadata": {
        "id": "69d82642"
      },
      "source": [
        "check for outliers only in the columns that shouldn't have outliers."
      ]
    },
    {
      "cell_type": "code",
      "execution_count": null,
      "id": "1cc50fed",
      "metadata": {
        "id": "1cc50fed"
      },
      "outputs": [],
      "source": [
        "# Check of outliers by applying the IQR method checking\n",
        "df = data.drop(['trans_type', 'time_step', 'isFraud', 'isFlaggedFraud', 'isMerchant'], axis=1)\n",
        "\n",
        "Q1 = df.quantile(0.25)\n",
        "Q3 = df.quantile(0.75)\n",
        "IQR = Q3-Q1\n",
        "IQR\n",
        "((df < (Q1-1.5 * IQR)) | (df > (Q3 + 1.5 * IQR))).any()\n"
      ]
    },
    {
      "cell_type": "markdown",
      "id": "edd3d904",
      "metadata": {
        "id": "edd3d904"
      },
      "source": [
        "The results above showed there are outliers, but these outliers are probably because of fraudulent transactions."
      ]
    },
    {
      "cell_type": "code",
      "execution_count": null,
      "id": "lu8f1kX3kctg",
      "metadata": {
        "id": "lu8f1kX3kctg"
      },
      "outputs": [],
      "source": [
        "plt.figure(figsize=(10, 6))\n",
        "\n",
        "# Plot the boxplot\n",
        "df.boxplot()\n",
        "\n",
        "# Rotate x-axis labels by 45 degrees\n",
        "plt.xticks(rotation=45)\n",
        "\n",
        "# Display the plot\n",
        "plt.show()"
      ]
    },
    {
      "cell_type": "markdown",
      "id": "vo2QwNOxJZCr",
      "metadata": {
        "id": "vo2QwNOxJZCr"
      },
      "source": [
        "**Outlier Removal Tradeoff:**\n",
        "We have to be careful as to how far do we want the threshold for removing outliers. We determine the threshold by multiplying a number (ex: 1.5) by the (Interquartile Range). The higher this threshold is, the less outliers will detect\n",
        "\n",
        "**The Tradeoff**: The lower the threshold the more outliers it will remove however, we want to focus more on \"extreme outliers\" rather than just outliers. Why? because we might run the risk of information loss which will cause our models to have a lower performance"
      ]
    },
    {
      "cell_type": "code",
      "execution_count": null,
      "id": "k-ppJBDSkgsX",
      "metadata": {
        "id": "k-ppJBDSkgsX"
      },
      "outputs": [],
      "source": [
        "# Check if outliers still exist in the columns\n",
        "outliers_exist = False\n",
        "\n",
        "for col in df.columns.tolist():\n",
        "    # Calculate the first and third quartiles (Q1 and Q3)\n",
        "    Q1 = df[col].quantile(0.25)\n",
        "    Q3 = df[col].quantile(0.75)\n",
        "\n",
        "    # Calculate the interquartile range (IQR)\n",
        "    IQR = Q3 - Q1\n",
        "\n",
        "    # Define the lower and upper bounds for outliers\n",
        "    lower_bound = Q1 - 1.5 * IQR\n",
        "    upper_bound = Q3 + 1.5 * IQR\n",
        "\n",
        "    # Modify the values in the col to be within the range\n",
        "    df[col] = df[col].clip(lower_bound, upper_bound)\n",
        "\n",
        "    # Check if outliers exist in the col\n",
        "    if (df[col] < lower_bound).any() or (df[col] > upper_bound).any():\n",
        "        outliers_exist = True\n",
        "        print(f\"Outliers still exist in '{col}'.\")"
      ]
    },
    {
      "cell_type": "markdown",
      "id": "682e269d",
      "metadata": {
        "id": "682e269d"
      },
      "source": [
        "## Bivariate Analysis"
      ]
    },
    {
      "cell_type": "code",
      "execution_count": null,
      "id": "3097012b",
      "metadata": {
        "id": "3097012b"
      },
      "outputs": [],
      "source": [
        "# Apply logarithmic transformation to 'trans_amt' to handle skewness\n",
        "df = data\n",
        "df['log_trans_amt'] = np.log1p(df['trans_amt'])  # Using log1p to avoid log(0)\n",
        "\n",
        "# Create a plot with the transformed data\n",
        "plt.figure(figsize=(12, 6))\n",
        "sns.histplot(data=df, x='log_trans_amt', hue='isFraud', multiple='stack', alpha=0.5)\n",
        "plt.xlabel('Log of Transaction Amount')\n",
        "plt.ylabel('Count')\n",
        "plt.title('Distribution of Transaction Amounts by Fraud Status')\n",
        "plt.show()\n",
        "data.drop('log_trans_amt', axis=1, inplace=True)"
      ]
    },
    {
      "cell_type": "code",
      "execution_count": null,
      "id": "7b7481a1",
      "metadata": {
        "id": "7b7481a1"
      },
      "outputs": [],
      "source": [
        "fig = plt.figure(figsize= (10,8))\n",
        "\n",
        "sns.countplot(data = data,\n",
        "              x = 'trans_type',\n",
        "              hue = 'isFraud')\n",
        "plt.show()"
      ]
    },
    {
      "cell_type": "markdown",
      "id": "d836c386",
      "metadata": {
        "id": "d836c386"
      },
      "source": [
        "## Multivariate Analysis"
      ]
    },
    {
      "cell_type": "markdown",
      "id": "5a006d2d",
      "metadata": {
        "id": "5a006d2d"
      },
      "source": [
        "let's see for other categories"
      ]
    },
    {
      "cell_type": "code",
      "execution_count": null,
      "id": "7fc373d8",
      "metadata": {
        "id": "7fc373d8"
      },
      "outputs": [],
      "source": [
        "# Setup figure\n",
        "cols = 2\n",
        "rows = 1\n",
        "fig = plt.figure(figsize= (10,8))\n",
        "\n",
        "# Plotting\n",
        "for i, col in enumerate(['isMerchant', 'isFlaggedFraud']):\n",
        "    ax=fig.add_subplot(rows, cols, i+1)\n",
        "    sns.countplot(x=data[col], hue='isFraud', data=data, ax=ax)\n",
        "    plt.xticks(rotation=45, ha='right')\n",
        "fig.tight_layout()\n",
        "plt.show()"
      ]
    },
    {
      "cell_type": "code",
      "execution_count": null,
      "id": "50832129",
      "metadata": {
        "id": "50832129"
      },
      "outputs": [],
      "source": [
        "numeric = [col for col in data.columns if data[col].dtype in ['int64', 'float64']]\n",
        "numeric.remove('isFraud')\n",
        "categoric = [col for col in data.columns if data[col].dtype == 'object']"
      ]
    },
    {
      "cell_type": "markdown",
      "id": "G3fE_kHTIRNr",
      "metadata": {
        "id": "G3fE_kHTIRNr"
      },
      "source": [
        "### multi-collinearity"
      ]
    },
    {
      "cell_type": "code",
      "execution_count": null,
      "id": "0f3b740e",
      "metadata": {
        "id": "0f3b740e"
      },
      "outputs": [],
      "source": [
        "# correlation heatmap df\n",
        "correlation = data[numeric].corr()\n",
        "sns.heatmap(correlation, annot=True, fmt='.2f')"
      ]
    },
    {
      "cell_type": "code",
      "execution_count": null,
      "id": "3dbd6422",
      "metadata": {
        "id": "3dbd6422"
      },
      "outputs": [],
      "source": [
        "# correlation heatmap df\n",
        "correlation = data[numeric].corr()\n",
        "\n",
        "# Get column pairs with correlation > 0.5\n",
        "high_corr_pairs = []\n",
        "for i in range(len(correlation.columns)):\n",
        "    for j in range(i+1, len(correlation.columns)):\n",
        "        if abs(correlation.iloc[i, j]) > 0.5:\n",
        "            high_corr_pairs.append((correlation.columns[i], correlation.columns[j], correlation.iloc[i, j]))\n",
        "\n",
        "# Check if there are high correlation pairs\n",
        "if high_corr_pairs:\n",
        "    # Print column pairs with correlation > 0.5 and their correlation values\n",
        "    for pair in high_corr_pairs:\n",
        "        print(pair[0], \"-\", pair[1], \"Correlation:\", pair[2])\n",
        "else:\n",
        "    print(\"No high correlation columns\")"
      ]
    },
    {
      "cell_type": "markdown",
      "id": "7baf205f",
      "metadata": {
        "id": "7baf205f"
      },
      "source": [
        "these variables have a very high correlation"
      ]
    },
    {
      "cell_type": "code",
      "execution_count": null,
      "id": "28a2f1d7",
      "metadata": {
        "id": "28a2f1d7"
      },
      "outputs": [],
      "source": [
        "# so we will drop one from each pair\n",
        "data.drop(columns=['old_orig_bal', 'old_dest_bal'], inplace=True)"
      ]
    },
    {
      "cell_type": "code",
      "execution_count": null,
      "id": "1ffe32f8",
      "metadata": {
        "id": "1ffe32f8"
      },
      "outputs": [],
      "source": [
        "# Define your color palette\n",
        "color = ['#40DFEF', '#E78EA9']\n",
        "\n",
        "# Create the box plot\n",
        "sns.boxplot(data=data, x='isFraud', y='time_step', palette=color)\n",
        "\n",
        "# Display the plot\n",
        "plt.show()"
      ]
    },
    {
      "cell_type": "markdown",
      "id": "537baacc",
      "metadata": {
        "id": "537baacc"
      },
      "source": [
        "This means that on average,\n",
        "\n",
        "fraudulent transactions were made at later hours, or at a greater time step (hrs)"
      ]
    },
    {
      "cell_type": "markdown",
      "id": "f5fb96ca",
      "metadata": {
        "id": "f5fb96ca"
      },
      "source": [
        "## Hypothesis validation\n",
        "\n",
        "## Statistical Normality Tests\n",
        "\n",
        "Normality tests are used to determine if a dataset is normally distributed about the mean value. it is assumed that during any measurement values will follow a normal distribution with an equal number of measurements above and below the mean value.\n",
        "\n",
        "on the other hand, Gaussian distribution is a continuous probability distribution with symmetrical sides around its center. Its mean, median and mode are equal.\n",
        "\n",
        "Popular normality tests - D’Agostino’s K^2, Shapiro-Wilk, Anderson-Darling .\n",
        "\n",
        "### D’Agostino’s K^2 Test"
      ]
    },
    {
      "cell_type": "code",
      "execution_count": null,
      "id": "eafe349b",
      "metadata": {
        "id": "eafe349b"
      },
      "outputs": [],
      "source": [
        "# get a list of numerical columns in our dataset\n",
        "numeric = [col for col in data.columns if data[col].dtype in ['int64', 'float64']]\n",
        "\n",
        "# loop over each numerical column and test for normality\n",
        "for col in data[numeric]:\n",
        "    stat, p = stats.normaltest(data[col])\n",
        "    # print('Statistics=%.5f, p=%.3f' % (stat, p))\n",
        "\n",
        "    # interpret\n",
        "    alpha = 0.05\n",
        "    if p > alpha:\n",
        "        print(f'looks Gaussian (fail to reject H0) for this column: {col}')\n",
        "    else:\n",
        "        print(f'does not look Gaussian (reject H0) for this column: {col}')\n"
      ]
    },
    {
      "cell_type": "markdown",
      "id": "16fca39d",
      "metadata": {
        "id": "16fca39d"
      },
      "source": [
        "# Feature Processing & Engineering"
      ]
    },
    {
      "cell_type": "markdown",
      "id": "bcdac66c",
      "metadata": {
        "id": "bcdac66c"
      },
      "source": [
        "## Drop Duplicates"
      ]
    },
    {
      "cell_type": "code",
      "execution_count": null,
      "id": "eff2a874",
      "metadata": {
        "id": "eff2a874"
      },
      "outputs": [],
      "source": [
        "data.shape"
      ]
    },
    {
      "cell_type": "code",
      "execution_count": null,
      "id": "4de55688",
      "metadata": {
        "id": "4de55688"
      },
      "outputs": [],
      "source": [
        "data.duplicated().sum()"
      ]
    },
    {
      "cell_type": "markdown",
      "id": "8790bea1",
      "metadata": {
        "id": "8790bea1"
      },
      "source": [
        "let's have a closer look at the duplicates"
      ]
    },
    {
      "cell_type": "code",
      "execution_count": null,
      "id": "7774c081",
      "metadata": {
        "id": "7774c081"
      },
      "outputs": [],
      "source": [
        "data['trans_type'].unique()"
      ]
    },
    {
      "cell_type": "code",
      "execution_count": null,
      "id": "b8ab7292",
      "metadata": {
        "id": "b8ab7292"
      },
      "outputs": [],
      "source": [
        "dup = data.loc[data.duplicated(),:]\n",
        "dup.head(22)"
      ]
    },
    {
      "cell_type": "markdown",
      "id": "8ef41a17",
      "metadata": {
        "id": "8ef41a17"
      },
      "source": [
        "these transactions look fraudulent, but they are not.\n",
        "\n",
        "money was payed, but there is no trace of it in either sending or receiving accounts\n",
        "\n",
        "so we'll leave them. Remember, we have to be careful as to avoid deleting useful training information."
      ]
    },
    {
      "cell_type": "markdown",
      "id": "30lv4FTDuMpq",
      "metadata": {
        "id": "30lv4FTDuMpq"
      },
      "source": [
        "these do not look like duplicates, since the amount is different for each record. So we'll ignore"
      ]
    },
    {
      "cell_type": "markdown",
      "id": "214c2134",
      "metadata": {
        "id": "214c2134"
      },
      "source": [
        "## Creating new features"
      ]
    },
    {
      "cell_type": "markdown",
      "id": "6c25b640",
      "metadata": {
        "id": "6c25b640"
      },
      "source": [
        "## Impute Missing Values"
      ]
    },
    {
      "cell_type": "code",
      "execution_count": null,
      "id": "9c0f4abd",
      "metadata": {
        "id": "9c0f4abd"
      },
      "outputs": [],
      "source": [
        "data.isnull().sum()"
      ]
    },
    {
      "cell_type": "code",
      "execution_count": null,
      "id": "10ce28b3",
      "metadata": {
        "id": "10ce28b3"
      },
      "outputs": [],
      "source": [
        "# Drop the missing rows\n",
        "# data = data.dropna()"
      ]
    },
    {
      "cell_type": "code",
      "execution_count": null,
      "id": "2baed49f",
      "metadata": {
        "id": "2baed49f"
      },
      "outputs": [],
      "source": [
        "df = data\n",
        "X = df.drop('isFraud', axis=1)\n",
        "y = df['isFraud']"
      ]
    },
    {
      "cell_type": "markdown",
      "id": "749f6179",
      "metadata": {
        "id": "749f6179"
      },
      "source": [
        "## Data Imbalance Check"
      ]
    },
    {
      "cell_type": "code",
      "execution_count": null,
      "id": "8d905e3c",
      "metadata": {
        "id": "8d905e3c"
      },
      "outputs": [],
      "source": [
        "#Defining colors for the plots\n",
        "palette = ['#008080','#FF6347', '#E50000', '#D2691E']\n",
        "palette2 = ['#FF6347', '#008080', '#E50000', '#D2691E']\n",
        "\n",
        "l1 = list(data['isFraud'].value_counts())\n",
        "pie_values = [l1[0] / sum(l1) * 100, l1[1] / sum(l1) * 100]\n",
        "\n",
        "fig = plt.subplots(nrows = 1,ncols = 2,figsize = (20,7))\n",
        "\n",
        "plt.subplot(1,2,1)\n",
        "plt.pie(pie_values,labels = ['No Fraud','isFraud'],\n",
        "        autopct = '%1.2f%%',\n",
        "        explode = (0.1,0),\n",
        "        colors = palette,\n",
        "        wedgeprops = {'edgecolor': 'black','linewidth': 1, 'antialiased' : True})\n",
        "plt.title('isFraud and No Fraud %');\n",
        "\n",
        "plt.subplot(1,2,2)\n",
        "ax = sns.countplot(data = data,\n",
        "                   x='isFraud',\n",
        "                   palette = palette,\n",
        "                   edgecolor = 'black')\n",
        "for i in ax.containers:\n",
        "    ax.bar_label(i,)\n",
        "ax.set_xticklabels(['No Fraud','isFraud'])\n",
        "\n",
        "plt.title('isFraud and No Fraud')\n",
        "plt.show()\n"
      ]
    },
    {
      "cell_type": "markdown",
      "id": "99d79363",
      "metadata": {
        "id": "99d79363"
      },
      "source": [
        "Dataset is imbalanced. Fraudulent cases are only 0.13% of our data.\n",
        "\n",
        "This means that a blind guess (on \"No Fraud\") would give us accuracy of 99%\n",
        "\n",
        "Therefore, we can't use Accuracy Score to choose our model\n",
        "\n",
        "what to do to solve this issue:\n",
        "\n",
        "1. We could use stratified splitting during train-test split (split the dataset in a way that preserves the same proportions of examples in each class.)\n",
        "2. We could be extra careful when dealing with outliers (we can delete meaningull information).\n",
        "3. Resampling Techniques — Oversample minority class or Undersample majority class."
      ]
    },
    {
      "cell_type": "code",
      "execution_count": null,
      "id": "507a4a64",
      "metadata": {
        "id": "507a4a64"
      },
      "outputs": [],
      "source": [
        "#Oversampling the minority class (the churn customers)\n",
        "ros = RandomOverSampler(random_state=0)\n",
        "X_new,y_new= ros.fit_resample(X, y)\n",
        "# X_new,y_new= X, y\n",
        "\n",
        "print(\"After Random Over Sampling Of Minor Class Total Samples are :\", len(y_new))\n",
        "print('Original dataset shape {}'.format(Counter(y)))\n",
        "print('Resampled dataset shape {}'.format(Counter(y_new)))"
      ]
    },
    {
      "cell_type": "markdown",
      "id": "3c00a094",
      "metadata": {
        "id": "3c00a094"
      },
      "source": [
        "Now our data is balanced"
      ]
    },
    {
      "cell_type": "markdown",
      "id": "e154be43",
      "metadata": {
        "id": "e154be43"
      },
      "source": [
        "# Dataset Splitting"
      ]
    },
    {
      "cell_type": "code",
      "execution_count": null,
      "id": "c135237d",
      "metadata": {
        "id": "c135237d"
      },
      "outputs": [],
      "source": [
        "X_train, X_test, y_train, y_test = train_test_split(X_new, y_new, test_size = 0.20, random_state = 42)"
      ]
    },
    {
      "cell_type": "code",
      "execution_count": null,
      "id": "9adedbf5",
      "metadata": {
        "id": "9adedbf5"
      },
      "outputs": [],
      "source": [
        "X_train.shape, X_test.shape , y_train.shape, y_test.shape"
      ]
    },
    {
      "cell_type": "markdown",
      "id": "7179b097",
      "metadata": {
        "id": "7179b097"
      },
      "source": [
        "# Features Encoding"
      ]
    },
    {
      "cell_type": "code",
      "execution_count": null,
      "id": "b317520d",
      "metadata": {
        "id": "b317520d"
      },
      "outputs": [],
      "source": [
        "numeric = [col for col in data.columns if data[col].dtype in ['int64', 'float64']]\n",
        "numeric.remove('isFraud')\n",
        "print(\"numeric_cols:\", numeric)\n",
        "print(\"categoric_cols:\", categoric)\n",
        "categoric = [col for col in data.columns if data[col].dtype == 'object']"
      ]
    },
    {
      "cell_type": "code",
      "execution_count": null,
      "id": "8f7b5b6e",
      "metadata": {
        "id": "8f7b5b6e"
      },
      "outputs": [],
      "source": [
        "# calling our encoder\n",
        "encoder = OneHotEncoder(handle_unknown='ignore', sparse=False, drop=\"first\")\n",
        "# setting output to DataFrame\n",
        "encoder.set_output(transform=\"pandas\")\n",
        "# encoding our data\n",
        "X_catEncoded_train = encoder.fit_transform(X_train[categoric])\n",
        "X_catEncoded_test = encoder.transform(X_test[categoric]) # encoding our test data"
      ]
    },
    {
      "cell_type": "markdown",
      "id": "3e31fb85",
      "metadata": {
        "id": "3e31fb85"
      },
      "source": [
        "# Features Scaling\n"
      ]
    },
    {
      "cell_type": "code",
      "execution_count": null,
      "id": "a04f761f",
      "metadata": {
        "id": "a04f761f"
      },
      "outputs": [],
      "source": [
        "Scaler = StandardScaler().fit(X_train[numeric]).set_output(transform=\"pandas\")\n",
        "\n",
        "X_numScaled_train = Scaler.transform(X_train[numeric])\n",
        "X_numScaled_test = Scaler.transform(X_test[numeric])"
      ]
    },
    {
      "cell_type": "code",
      "execution_count": null,
      "id": "216737b2",
      "metadata": {
        "id": "216737b2"
      },
      "outputs": [],
      "source": [
        "X_train = pd.concat([X_numScaled_train, X_catEncoded_train], axis=1)\n",
        "X_test = pd.concat([X_numScaled_test, X_catEncoded_test], axis=1)"
      ]
    },
    {
      "cell_type": "markdown",
      "id": "65fbefef",
      "metadata": {
        "id": "65fbefef"
      },
      "source": [
        "# Machine Learning Modeling\n"
      ]
    },
    {
      "cell_type": "markdown",
      "id": "7825e6ca",
      "metadata": {
        "id": "7825e6ca"
      },
      "source": [
        "## 1.  Logistic Regression"
      ]
    },
    {
      "cell_type": "markdown",
      "id": "e09d87c9",
      "metadata": {
        "id": "e09d87c9"
      },
      "source": [
        "### Create the Model"
      ]
    },
    {
      "cell_type": "code",
      "execution_count": null,
      "id": "c16aab19",
      "metadata": {
        "id": "c16aab19"
      },
      "outputs": [],
      "source": [
        "model= LogisticRegression()"
      ]
    },
    {
      "cell_type": "markdown",
      "id": "ff2e829a",
      "metadata": {
        "id": "ff2e829a"
      },
      "source": [
        "### Train the Model"
      ]
    },
    {
      "cell_type": "code",
      "execution_count": null,
      "id": "2f75a90b",
      "metadata": {
        "id": "2f75a90b"
      },
      "outputs": [],
      "source": [
        "model=model.fit(X_train, y_train)\n"
      ]
    },
    {
      "cell_type": "markdown",
      "id": "82707b0a",
      "metadata": {
        "id": "82707b0a"
      },
      "source": [
        "###  Predict on the test dataset"
      ]
    },
    {
      "cell_type": "code",
      "execution_count": null,
      "id": "473c43df",
      "metadata": {
        "id": "473c43df"
      },
      "outputs": [],
      "source": [
        "pred = model.predict(X_test)\n",
        "prob = model.predict_proba(X_test)[:,1]\n"
      ]
    },
    {
      "cell_type": "markdown",
      "id": "dc806a2a",
      "metadata": {
        "id": "dc806a2a"
      },
      "source": [
        "### Model Evaluation"
      ]
    },
    {
      "cell_type": "code",
      "execution_count": null,
      "id": "914a2976",
      "metadata": {
        "id": "914a2976"
      },
      "outputs": [],
      "source": [
        "r_lgt= recall_score(y_test, pred)\n",
        "print(\"recall_score : \", r_lgt)\n",
        "\n",
        "p_lgt= precision_score(y_test, pred)\n",
        "print(\"precision_score :\",p_lgt)\n",
        "\n",
        "f1_lgt= f1_score(y_test, pred)\n",
        "print(\"f1_score :\", f1_lgt)\n",
        "\n",
        "f2_lgt = fbeta_score(y_test, pred, beta=2, average='binary')\n",
        "print(\"f2_score :\", f2_lgt)\n",
        "\n",
        "A_lgt= accuracy_score(pred, y_test)\n",
        "print(\"accuracy_score :\",A_lgt)\n",
        "\n",
        "acu_lgt = roc_auc_score(pred, y_test)\n",
        "print(\"ROC_AUC Score:\",acu_lgt)\n"
      ]
    },
    {
      "cell_type": "code",
      "execution_count": null,
      "id": "899a2476",
      "metadata": {
        "id": "899a2476"
      },
      "outputs": [],
      "source": [
        "# plot the model evaluation\n",
        "fpr, tpr, _ = roc_curve(y_test, prob)\n",
        "fig, ax = plt.subplots(figsize=(10,7))\n",
        "plt.title('Logistic Regression ROC curve')\n",
        "plt.xlabel(\"False Positive Rate\")\n",
        "plt.ylabel(\"True Positive Rate\")\n",
        "plt.plot(fpr,tpr)\n",
        "plt.plot((0,1), linestyle=\"--\",color='black')\n",
        "plt.show()"
      ]
    },
    {
      "cell_type": "markdown",
      "id": "55006580",
      "metadata": {
        "id": "55006580"
      },
      "source": [
        "## 3. XGBoost Classifier"
      ]
    },
    {
      "cell_type": "markdown",
      "id": "74beedfa",
      "metadata": {
        "id": "74beedfa"
      },
      "source": [
        "### Create the Model"
      ]
    },
    {
      "cell_type": "code",
      "execution_count": null,
      "id": "8ff6b746",
      "metadata": {
        "id": "8ff6b746"
      },
      "outputs": [],
      "source": [
        "XG_model= XGBClassifier()"
      ]
    },
    {
      "cell_type": "markdown",
      "id": "2a776eb2",
      "metadata": {
        "id": "2a776eb2"
      },
      "source": [
        "### Train the Model"
      ]
    },
    {
      "cell_type": "code",
      "execution_count": null,
      "id": "5e3400b1",
      "metadata": {
        "id": "5e3400b1"
      },
      "outputs": [],
      "source": [
        "XG_model= XG_model.fit(X_train, y_train)"
      ]
    },
    {
      "cell_type": "markdown",
      "id": "c0763132",
      "metadata": {
        "id": "c0763132"
      },
      "source": [
        "### Predict on the test dataset"
      ]
    },
    {
      "cell_type": "code",
      "execution_count": null,
      "id": "52e61bdc",
      "metadata": {
        "id": "52e61bdc"
      },
      "outputs": [],
      "source": [
        "XG_pred = XG_model.predict(X_test)\n",
        "XG_prob = XG_model.predict_proba(X_test)[:,1]"
      ]
    },
    {
      "cell_type": "markdown",
      "id": "de6b728d",
      "metadata": {
        "id": "de6b728d"
      },
      "source": [
        "### Model Evaluation"
      ]
    },
    {
      "cell_type": "code",
      "execution_count": null,
      "id": "a88758c3",
      "metadata": {
        "id": "a88758c3"
      },
      "outputs": [],
      "source": [
        "r_XG= recall_score(y_test, XG_pred)\n",
        "print(\"recall_score : \", r_XG)\n",
        "\n",
        "p_XG= precision_score(y_test, XG_pred)\n",
        "print(\"precision_score :\",p_XG)\n",
        "\n",
        "f1_XG= f1_score(y_test, XG_pred)\n",
        "print(\"f1_score :\", f1_XG)\n",
        "\n",
        "f2_XG = fbeta_score(y_test, XG_pred, beta=2, average='binary')\n",
        "print(\"f2_score :\", f2_XG)\n",
        "\n",
        "\n",
        "A_XG= accuracy_score( y_test, XG_pred)\n",
        "print(\"accuracy_score :\",A_XG)\n",
        "\n",
        "acu_XG = roc_auc_score(XG_pred, y_test)\n",
        "print(\"ROC_AUC Score:\",acu_XG)\n"
      ]
    },
    {
      "cell_type": "code",
      "execution_count": null,
      "id": "92b3e2c8",
      "metadata": {
        "id": "92b3e2c8"
      },
      "outputs": [],
      "source": [
        "#  plot the model evaluation\n",
        "fpr, tpr, _ = roc_curve(y_test, XG_prob)\n",
        "fig, ax = plt.subplots(figsize=(10,7))\n",
        "plt.title('XGBoost ROC curve')\n",
        "plt.xlabel(\"False Positive Rate\")\n",
        "plt.ylabel(\"True Positive Rate\")\n",
        "plt.plot(fpr,tpr)\n",
        "plt.plot((0,1), linestyle=\"--\",color='black')\n",
        "plt.show()"
      ]
    },
    {
      "cell_type": "markdown",
      "id": "007fd0a2",
      "metadata": {
        "id": "007fd0a2"
      },
      "source": [
        "##  6. DecisionTreeClassifier"
      ]
    },
    {
      "cell_type": "markdown",
      "id": "351c86b0",
      "metadata": {
        "id": "351c86b0"
      },
      "source": [
        "### Create the Model"
      ]
    },
    {
      "cell_type": "code",
      "execution_count": null,
      "id": "57c57da1",
      "metadata": {
        "id": "57c57da1"
      },
      "outputs": [],
      "source": [
        "dtmodel = DecisionTreeClassifier()"
      ]
    },
    {
      "cell_type": "markdown",
      "id": "7f325e42",
      "metadata": {
        "id": "7f325e42"
      },
      "source": [
        "### Train the Model"
      ]
    },
    {
      "cell_type": "code",
      "execution_count": null,
      "id": "a1dd314a",
      "metadata": {
        "id": "a1dd314a"
      },
      "outputs": [],
      "source": [
        "dtmodel = dtmodel.fit(X_train, y_train)"
      ]
    },
    {
      "cell_type": "markdown",
      "id": "561524af",
      "metadata": {
        "id": "561524af"
      },
      "source": [
        "### Predict on the test dataset"
      ]
    },
    {
      "cell_type": "code",
      "execution_count": null,
      "id": "13171444",
      "metadata": {
        "id": "13171444"
      },
      "outputs": [],
      "source": [
        "dt_pred = dtmodel.predict(X_test)\n",
        "dt_prob = dtmodel.predict_proba(X_test)[:,1]"
      ]
    },
    {
      "cell_type": "markdown",
      "id": "3918c978",
      "metadata": {
        "id": "3918c978"
      },
      "source": [
        "### Model Evaluation"
      ]
    },
    {
      "cell_type": "code",
      "execution_count": null,
      "id": "7c818cd3",
      "metadata": {
        "id": "7c818cd3"
      },
      "outputs": [],
      "source": [
        "r_dt= recall_score(y_test, dt_pred)\n",
        "print(\"recall_score : \", r_dt)\n",
        "\n",
        "p_dt= precision_score(y_test, dt_pred)\n",
        "print(\"precision_score :\",p_dt)\n",
        "\n",
        "f1_dt= f1_score(y_test, dt_pred)\n",
        "print(\"f1_score :\", f1_dt)\n",
        "\n",
        "f2_dt = fbeta_score(y_test, dt_pred, beta=2, average='binary')\n",
        "print(\"f2_score :\", f2_dt)\n",
        "\n",
        "\n",
        "A_dt= accuracy_score( y_test, dt_pred)\n",
        "print(\"accuracy_score :\", A_dt)\n",
        "\n",
        "acu_dt = roc_auc_score(dt_pred, y_test)\n",
        "print(\"ROC_AUC Score:\",acu_dt)"
      ]
    },
    {
      "cell_type": "code",
      "execution_count": null,
      "id": "X8diJ-R93nqG",
      "metadata": {
        "id": "X8diJ-R93nqG"
      },
      "outputs": [],
      "source": [
        "#  plot the model evaluation\n",
        "fpr, tpr, _ = roc_curve(y_test, dt_prob)\n",
        "fig, ax = plt.subplots(figsize=(10,7))\n",
        "plt.title('dt ROC curve')\n",
        "plt.xlabel(\"False Positive Rate\")\n",
        "plt.ylabel(\"True Positive Rate\")\n",
        "plt.plot(fpr,tpr)\n",
        "plt.plot((0,1), linestyle=\"--\",color='black')\n",
        "plt.show()"
      ]
    },
    {
      "cell_type": "markdown",
      "id": "c286dfb6",
      "metadata": {
        "id": "c286dfb6"
      },
      "source": [
        "# Models comparison"
      ]
    },
    {
      "cell_type": "markdown",
      "id": "5d760629",
      "metadata": {
        "id": "5d760629"
      },
      "source": [
        "False Negatives:\n",
        "\n",
        "False negatives occur when the model incorrectly predicts that a patient does not have the disease when, in reality, they do.\n",
        "The consequence of a false negative is that the patient may not receive necessary treatment or intervention, potentially leading to undetected or untreated health issues. This can result in the progression of the disease, worsening health outcomes, and possibly even life-threatening situations if the disease is serious.\n",
        "\n",
        "Given that false negatives are more costly in this medical diagnosis classification project, and I've balanced the classes using Random Over Sampler, it's advisable to prioritize metrics that focus on minimizing false negatives.\n",
        "\n",
        "In this context, the most appropriate metric to use would be recall or the F2 score. Both of these metrics emphasize the minimization of false negatives, making them suitable for scenarios where the cost of missing positive cases (i.e., false negatives) is high."
      ]
    },
    {
      "cell_type": "code",
      "execution_count": null,
      "id": "4906e4f5",
      "metadata": {
        "id": "4906e4f5"
      },
      "outputs": [],
      "source": [
        "compare_models = ['Logistic Regression', 'XGBClassifier', 'DecisionTreeClassifier']\n",
        "\n",
        "data = {\n",
        "    'Accuracy': [A_lgt, A_XG, A_dt],\n",
        "    'Recall': [r_lgt, r_XG, r_dt],\n",
        "    'Precision': [p_lgt, p_XG, p_dt],\n",
        "    'f1_score': [f1_lgt, f1_XG, f1_dt],\n",
        "    'f2_score': [f2_lgt, f2_XG, f2_dt],\n",
        "    'ROC_AUC': [acu_lgt, acu_XG, acu_dt],\n",
        "    'Description': ['', 'best model', '']\n",
        "}\n",
        "result=pd.DataFrame(data=data, index=compare_models)\n",
        "result"
      ]
    },
    {
      "cell_type": "markdown",
      "id": "81ca799a",
      "metadata": {
        "id": "81ca799a"
      },
      "source": [
        "In a fraud detection project, it is generally more important to prioritize false negatives over false positives. This is because false negatives mean that fraudulent transactions go undetected, leading to potential financial losses and other negative consequences.\n",
        "\n",
        "False positives, while inconvenient, do not result in direct financial loss and can be managed with additional verification steps.\n",
        "\n",
        "Given this context, the best metrics to focus on are Recall and f2_score. Recall measures the ability to identify actual fraud cases correctly (minimizing false negatives), while the f2_score places more emphasis on recall compared to precision."
      ]
    },
    {
      "cell_type": "markdown",
      "id": "d7cc7d96",
      "metadata": {
        "id": "d7cc7d96"
      },
      "source": [
        "\n",
        "Based on the above metrics, **decisionTree Classifier is the best model** for this fraud detection project as it has the highest recall (0.99) and a high f2_score (0.99), indicating it is effective in detecting fraudulent transactions while minimizing false negatives."
      ]
    },
    {
      "cell_type": "markdown",
      "id": "e4beba0c",
      "metadata": {
        "id": "e4beba0c"
      },
      "source": [
        "In the context of fraud detection, ROC_AUC is important because it gives a holistic view of the model's performance across all classification thresholds.\n",
        "\n",
        "Based on the ROC_AUC values and previously discussed metrics (recall and f2_score), decisionTree Classifier stands out as the best model for this fraud detection project with the highest ROC_AUC (0.99)."
      ]
    },
    {
      "cell_type": "markdown",
      "id": "c229ba53",
      "metadata": {
        "id": "c229ba53"
      },
      "source": [
        "# k-Fold cross validation\n",
        "\n",
        "## decisionTree Classifier (Best Model)"
      ]
    },
    {
      "cell_type": "code",
      "execution_count": null,
      "id": "ad86389f",
      "metadata": {
        "id": "ad86389f"
      },
      "outputs": [],
      "source": [
        "dt_fold = KFold(n_splits = 5,shuffle=True)\n",
        "# Define custom F2 scorer\n",
        "f2_scorer = make_scorer(fbeta_score, beta=2)\n",
        "\n",
        "score = cross_val_score(dtmodel, X_train, y_train, cv=dt_fold, scoring=f2_scorer, error_score=\"raise\")\n",
        "dt_cv_score = score.mean()\n",
        "dt_cv_stdev = stdev(score)\n",
        "print('Cross Validation f2 scores are: {}'.format(score))\n",
        "print('Average Cross Validation f2 score: ', dt_cv_score)\n",
        "print('Cross Validation f2 standard deviation: ', dt_cv_stdev)"
      ]
    },
    {
      "cell_type": "markdown",
      "id": "0feee9aa",
      "metadata": {
        "id": "0feee9aa"
      },
      "source": [
        "after evaluation with KFold cross validation,\n",
        "\n",
        "our best model maintains its high performance"
      ]
    },
    {
      "cell_type": "markdown",
      "id": "kOxKCtPZClNF",
      "metadata": {
        "id": "kOxKCtPZClNF"
      },
      "source": [
        "#### for exporting the ml assets (scaler, model, encoder) for deployment"
      ]
    },
    {
      "cell_type": "code",
      "execution_count": null,
      "id": "98323e4d",
      "metadata": {
        "id": "98323e4d"
      },
      "outputs": [],
      "source": [
        "# with open('model.pkl', 'wb') as f:\n",
        "#     pickle.dump(dt_tuned, f)"
      ]
    },
    {
      "cell_type": "markdown",
      "id": "3a5c85cc",
      "metadata": {
        "id": "3a5c85cc"
      },
      "source": [
        "# Using Confusion Matrix For Predictions"
      ]
    },
    {
      "cell_type": "markdown",
      "id": "b88de2ac",
      "metadata": {
        "id": "b88de2ac"
      },
      "source": [
        "# DecisionTree Classifier"
      ]
    },
    {
      "cell_type": "code",
      "execution_count": null,
      "id": "c8c77928",
      "metadata": {
        "id": "c8c77928"
      },
      "outputs": [],
      "source": [
        "fig, ax = plt.subplots(figsize=(10,7))\n",
        "y_pred_dt = dtmodel.predict(X_test)\n",
        "\n",
        "cm = confusion_matrix(y_test, y_pred_dt, labels=dtmodel.classes_)\n",
        "disp = ConfusionMatrixDisplay(confusion_matrix=cm,\n",
        "                             display_labels=dtmodel.classes_)\n",
        "disp.plot(ax=ax)\n",
        "plt.show()"
      ]
    },
    {
      "cell_type": "markdown",
      "id": "4cf9d718",
      "metadata": {
        "id": "4cf9d718"
      },
      "source": [
        "Based on confusion matrix:\n",
        "\n",
        "1. There are 438 transactions predicted to have fraud when they actually don't, this can be corrected with investigation within the company\n",
        "2. There are 0 transactions predicted to not have fraud when they actually do, this is more important"
      ]
    },
    {
      "cell_type": "markdown",
      "id": "21f70f4a",
      "metadata": {
        "id": "21f70f4a"
      },
      "source": [
        "# Feature Importance"
      ]
    },
    {
      "cell_type": "markdown",
      "id": "572f6f9c",
      "metadata": {
        "id": "572f6f9c"
      },
      "source": [
        "# DecisionTreeClassifier"
      ]
    },
    {
      "cell_type": "code",
      "execution_count": null,
      "id": "46a4eab2",
      "metadata": {
        "id": "46a4eab2"
      },
      "outputs": [],
      "source": [
        "fimp = pd.Series(data=dtmodel.feature_importances_, index=X_train.columns).sort_values(ascending=False)\n",
        "plt.figure(figsize=(17,13))\n",
        "plt.title(\"Feature importance\")\n",
        "ax = sns.barplot(y=fimp.index, x=fimp.values, palette=palette, orient='h')\n"
      ]
    },
    {
      "cell_type": "markdown",
      "id": "ff803639",
      "metadata": {
        "id": "ff803639"
      },
      "source": [
        "# Answers\n",
        "\n",
        "1. **What are the key factors that predict fraudulent customer?**\n",
        "\n",
        "   Based on the feature importance, the key factors are:\n",
        "   - New/old origin balance (multi-collinearity)\n",
        "   - New/old destination balance (multi-collinearity)\n",
        "   - Time_step (hours)\n",
        "   - Transaction amount\n",
        "   - Transaction type\n",
        "\n",
        "2. **Do these factors make sense? If yes, How? If not, How not?**\n",
        "\n",
        "   Yes, these factors make sense. Large and unusual changes in balances, significant transaction amounts, and certain transaction types are common indicators of fraudulent activity. The timing of transactions can also reveal suspicious patterns.\n",
        "\n",
        "3. **What kind of prevention should be adopted while the company updates its infrastructure?**\n",
        "\n",
        "   The company should adopt robust security measures, such as:\n",
        "   - Enhanced authentication methods (e.g., two-factor authentication)\n",
        "   - Real-time monitoring and alert systems for suspicious transactions\n",
        "   - Regular security audits and updates\n",
        "   - Implementation of machine learning models to detect anomalies\n",
        "\n",
        "4. **Assuming these actions have been implemented, how would you determine if they work?**\n",
        "\n",
        "   To determine if the implemented actions are effective, you should:\n",
        "   - Monitor the reduction in fraudulent transactions and compare it to historical data\n",
        "   - Analyze metrics such as the number of false positives and false negatives\n",
        "   - Conduct periodic reviews and updates of the security measures\n",
        "   - Gather feedback from customers regarding their experience with the new security measures\n"
      ]
    }
  ],
  "metadata": {
    "colab": {
      "provenance": [],
      "toc_visible": true
    },
    "kernelspec": {
      "display_name": "Python 3",
      "name": "python3"
    },
    "language_info": {
      "codemirror_mode": {
        "name": "ipython",
        "version": 3
      },
      "file_extension": ".py",
      "mimetype": "text/x-python",
      "name": "python",
      "nbconvert_exporter": "python",
      "pygments_lexer": "ipython3",
      "version": "3.10.10"
    },
    "vscode": {
      "interpreter": {
        "hash": "7679c2132d3f6ce38c9df14d554b39c06862b36a4e6689c81f9ae15bd0911d7d"
      }
    }
  },
  "nbformat": 4,
  "nbformat_minor": 5
}